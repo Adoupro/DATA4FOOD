{
 "cells": [
  {
   "cell_type": "markdown",
   "metadata": {},
   "source": [
    "# Introduction"
   ]
  },
  {
   "cell_type": "markdown",
   "metadata": {},
   "source": [
    "Entre mai 2009 et avril 2010, la France avait compté 20 800 hospitalisations et 280 décès dûs à des intoxications alimentaires. Afin de réduire ce nombre d'incident, nous avons pris l'initiative de créer une solution de Business Intelligence Microsoft. Cette solution devra être capable de détecter les restaurants susceptibles d'être responsable d'une nouvelle intoxication alimentaire avec une fiabilité de plus de 80 %."
   ]
  },
  {
   "cell_type": "markdown",
   "metadata": {},
   "source": [
    "# Méthodologie"
   ]
  },
  {
   "cell_type": "markdown",
   "metadata": {},
   "source": [
    "La solution de Business Intelligence sera découpée en 4 parties :\n",
    "\n",
    "- Un script Python et différents composants SSIS qui récupéreront les données depuis les sites TripAdvisor, AlimConfiance et Data.Gouv.\n",
    "\n",
    "- Une solution SSIS qui alimentera un entrepôt de données SQL Server 2017.\n",
    "\n",
    "- Une solution SSAS qui modélisera les données et qui y appliquera un algorithme de classification des restaurants.\n",
    "\n",
    "- Un rapport Power BI qui restitura les données provenant du cube SSAS.\n",
    "    \n",
    "\n",
    "Dans ce document Jupyter Notebook, nous allons uniquement :\n",
    "\n",
    " - Utiliser un script de scrapping écrit en Python et nommé scrapping_script.py.\n",
    " \n",
    " - Concevoir un premier modèle d'intelligence artificielle en Python pour classifier les restaurants.\n",
    " \n",
    "\n",
    "PS : Le script de scrapping aura été préalablement conçu pour parcourir et récupérer les informations de plus de 13 258 pages webs contenant des informations sur des restaurants parisiens. Son temps d'exécution est donc estimé à environ 12 heures."
   ]
  },
  {
   "cell_type": "markdown",
   "metadata": {},
   "source": [
    "### Liste des libraries Python utilisées"
   ]
  },
  {
   "cell_type": "code",
   "execution_count": 1,
   "metadata": {},
   "outputs": [],
   "source": [
    "import requests\n",
    "import re\n",
    "import pandas as pd\n",
    "import time\n",
    "import numpy as np\n",
    "import os\n",
    "from bs4 import BeautifulSoup\n",
    "from nltk.tokenize import word_tokenize\n",
    "import matplotlib.pyplot as plt\n",
    "from imblearn.over_sampling import SMOTE\n",
    "from sklearn.model_selection import train_test_split\n",
    "from sklearn.linear_model import LogisticRegressionCV\n",
    "from sklearn.metrics import recall_score\n",
    "\n",
    "from scrapping_script import main_restaurants_scrapping\n",
    "from scrapping_script import main_restaurants_details_scrapping"
   ]
  },
  {
   "cell_type": "markdown",
   "metadata": {},
   "source": [
    "### Source des données"
   ]
  },
  {
   "cell_type": "markdown",
   "metadata": {},
   "source": [
    "Pour élaborer ce projet, nous utiliserons 4 fichiers csv :\n",
    "\n",
    " - Le fichier \"restaurants.csv\" qui recense le nom et les liens TripAdvisor des restaurants situés en Ile de France.\n",
    " \n",
    " - Le fichier \"restaurants_overview.csv\" qui recense des informations globales sur les restaurants du fichier \"restaurants.csv\".\n",
    " \n",
    " - Le fichier \"restaurants_comments.csv\" qui recense des commentaires d'internautes TripAdvisor sur les restaurants du fichier \"restaurants.csv\".\n",
    " \n",
    " - Le fichier \"export_alimconfiance.csv\" qui recence les évaluations sanitaires des restaurants français."
   ]
  },
  {
   "cell_type": "markdown",
   "metadata": {},
   "source": [
    "# Pipeline de machine learning"
   ]
  },
  {
   "cell_type": "markdown",
   "metadata": {},
   "source": [
    "### Scrapping des données de TripAdvisor (Dernière exécution le 28 août 2019)."
   ]
  },
  {
   "cell_type": "code",
   "execution_count": 2,
   "metadata": {},
   "outputs": [],
   "source": [
    "#main_restaurants_scrapping(550)\n",
    "#restaurants = pd.read_csv('restaurants.csv')\n",
    "#main_restaurants_details_scrapping(restaurants)"
   ]
  },
  {
   "cell_type": "markdown",
   "metadata": {},
   "source": [
    "### Ouverture et fusion des différentes sources de données."
   ]
  },
  {
   "cell_type": "code",
   "execution_count": 3,
   "metadata": {},
   "outputs": [],
   "source": [
    "# Reading of the files\n",
    "\n",
    "restaurants = pd.read_csv('restaurants.csv')\n",
    "restaurants_overview = pd.read_csv('restaurants_overview.csv', sep='|')\n",
    "restaurants_comments = pd.read_csv('restaurants_comments.csv', sep='|')\n",
    "labels = pd.read_csv('export_alimconfiance.csv', sep=';')\n",
    "\n",
    "\n",
    "# Renaming of the columns\n",
    "\n",
    "restaurants.columns = ['Restaurant_Name', 'Restaurant_URL']\n",
    "\n",
    "columns = ['Rating', 'Comment_Count', 'ZIPCODE', 'Restaurant_Url']\n",
    "restaurants_overview = restaurants_overview[columns]\n",
    "restaurants_overview.columns = ['Restaurant_Rating', 'Restaurant_Comment_Count', 'ZIPCODE', 'Restaurant_URL']\n",
    "\n",
    "columns = ['Rating','Date', 'Title', 'Comment', 'Visit_date', 'Restaurant_Url']\n",
    "restaurants_comments = restaurants_comments[columns]\n",
    "restaurants_comments.columns = ['Comment_Rating', 'Publish_Date',\n",
    "                                'Comment_Title', 'Comment_Content',\n",
    "                                'Visit_Date', 'Restaurant_URL']\n",
    "\n",
    "columns = ['APP_Libelle_etablissement', 'Code_postal', 'Synthese_eval_sanit', 'Date_inspection']\n",
    "labels = labels[columns]\n",
    "labels.columns = ['Restaurant_Name', 'ZIPCODE', 'Label', 'Inspection_Date']\n",
    "\n",
    "\n",
    "# Transformation of the columns used for the inner join\n",
    "\n",
    "restaurants['Restaurant_Name'] = restaurants['Restaurant_Name'].str.upper()\n",
    "restaurants_overview['ZIPCODE'] = restaurants_overview['ZIPCODE'].astype(str).str.extract('(\\d*)\\.0')\n",
    "\n",
    "labels['Restaurant_Name'] = labels['Restaurant_Name'].astype(str)\n",
    "labels['ZIPCODE'] = labels['ZIPCODE'].astype(str)\n",
    "\n",
    "\n",
    "# Inner join\n",
    "\n",
    "dataset = pd.merge(restaurants, restaurants_overview, how='inner', on='Restaurant_URL')\n",
    "dataset = pd.merge(dataset, restaurants_comments, how='inner', on='Restaurant_URL')\n",
    "dataset = pd.merge(dataset, labels, how='inner', on=['Restaurant_Name', 'ZIPCODE'])"
   ]
  },
  {
   "cell_type": "markdown",
   "metadata": {},
   "source": [
    "### Exploration avant nettoyage des données et feature engineering."
   ]
  },
  {
   "cell_type": "code",
   "execution_count": 4,
   "metadata": {},
   "outputs": [
    {
     "name": "stdout",
     "output_type": "stream",
     "text": [
      "<class 'pandas.core.frame.DataFrame'>\n",
      "Int64Index: 13022 entries, 0 to 13021\n",
      "Data columns (total 12 columns):\n",
      "Restaurant_Name             13022 non-null object\n",
      "Restaurant_URL              13022 non-null object\n",
      "Restaurant_Rating           13022 non-null object\n",
      "Restaurant_Comment_Count    13022 non-null int64\n",
      "ZIPCODE                     13022 non-null object\n",
      "Comment_Rating              13022 non-null int64\n",
      "Publish_Date                13022 non-null object\n",
      "Comment_Title               12967 non-null object\n",
      "Comment_Content             12981 non-null object\n",
      "Visit_Date                  13022 non-null object\n",
      "Label                       13022 non-null object\n",
      "Inspection_Date             13022 non-null object\n",
      "dtypes: int64(2), object(10)\n",
      "memory usage: 1.3+ MB\n"
     ]
    }
   ],
   "source": [
    "dataset.info()"
   ]
  },
  {
   "cell_type": "code",
   "execution_count": 5,
   "metadata": {},
   "outputs": [
    {
     "data": {
      "text/html": [
       "<div>\n",
       "<style scoped>\n",
       "    .dataframe tbody tr th:only-of-type {\n",
       "        vertical-align: middle;\n",
       "    }\n",
       "\n",
       "    .dataframe tbody tr th {\n",
       "        vertical-align: top;\n",
       "    }\n",
       "\n",
       "    .dataframe thead th {\n",
       "        text-align: right;\n",
       "    }\n",
       "</style>\n",
       "<table border=\"1\" class=\"dataframe\">\n",
       "  <thead>\n",
       "    <tr style=\"text-align: right;\">\n",
       "      <th></th>\n",
       "      <th>Restaurant_Name</th>\n",
       "      <th>Restaurant_URL</th>\n",
       "      <th>Restaurant_Rating</th>\n",
       "      <th>Restaurant_Comment_Count</th>\n",
       "      <th>ZIPCODE</th>\n",
       "      <th>Comment_Rating</th>\n",
       "      <th>Publish_Date</th>\n",
       "      <th>Comment_Title</th>\n",
       "      <th>Comment_Content</th>\n",
       "      <th>Visit_Date</th>\n",
       "      <th>Label</th>\n",
       "      <th>Inspection_Date</th>\n",
       "    </tr>\n",
       "  </thead>\n",
       "  <tbody>\n",
       "    <tr>\n",
       "      <td>0</td>\n",
       "      <td>IL ETAIT UN SQUARE</td>\n",
       "      <td>https://www.tripadvisor.fr/Restaurant_Review-g...</td>\n",
       "      <td>5</td>\n",
       "      <td>2928</td>\n",
       "      <td>75013</td>\n",
       "      <td>5</td>\n",
       "      <td>27/08/2019</td>\n",
       "      <td>Ce resto mérite plus que 5 étoiles !</td>\n",
       "      <td>Le personnel est très agréable et cela fait pl...</td>\n",
       "      <td>01/08/2019</td>\n",
       "      <td>Satisfaisant</td>\n",
       "      <td>2019-01-30T01:00:00+01:00</td>\n",
       "    </tr>\n",
       "    <tr>\n",
       "      <td>1</td>\n",
       "      <td>IL ETAIT UN SQUARE</td>\n",
       "      <td>https://www.tripadvisor.fr/Restaurant_Review-g...</td>\n",
       "      <td>5</td>\n",
       "      <td>2928</td>\n",
       "      <td>75013</td>\n",
       "      <td>5</td>\n",
       "      <td>26/08/2019</td>\n",
       "      <td>Les voisins de place d'Italie</td>\n",
       "      <td>Très bon burger sa réputation du meilleur burg...</td>\n",
       "      <td>01/08/2019</td>\n",
       "      <td>Satisfaisant</td>\n",
       "      <td>2019-01-30T01:00:00+01:00</td>\n",
       "    </tr>\n",
       "    <tr>\n",
       "      <td>2</td>\n",
       "      <td>IL ETAIT UN SQUARE</td>\n",
       "      <td>https://www.tripadvisor.fr/Restaurant_Review-g...</td>\n",
       "      <td>5</td>\n",
       "      <td>2928</td>\n",
       "      <td>75013</td>\n",
       "      <td>5</td>\n",
       "      <td>17/08/2019</td>\n",
       "      <td>Bonne expérience</td>\n",
       "      <td>Restaurant victime de son succès mais succès m...</td>\n",
       "      <td>01/07/2019</td>\n",
       "      <td>Satisfaisant</td>\n",
       "      <td>2019-01-30T01:00:00+01:00</td>\n",
       "    </tr>\n",
       "  </tbody>\n",
       "</table>\n",
       "</div>"
      ],
      "text/plain": [
       "      Restaurant_Name                                     Restaurant_URL  \\\n",
       "0  IL ETAIT UN SQUARE  https://www.tripadvisor.fr/Restaurant_Review-g...   \n",
       "1  IL ETAIT UN SQUARE  https://www.tripadvisor.fr/Restaurant_Review-g...   \n",
       "2  IL ETAIT UN SQUARE  https://www.tripadvisor.fr/Restaurant_Review-g...   \n",
       "\n",
       "  Restaurant_Rating  Restaurant_Comment_Count ZIPCODE  Comment_Rating  \\\n",
       "0                5                       2928   75013               5   \n",
       "1                5                       2928   75013               5   \n",
       "2                5                       2928   75013               5   \n",
       "\n",
       "  Publish_Date                         Comment_Title  \\\n",
       "0   27/08/2019  Ce resto mérite plus que 5 étoiles !   \n",
       "1   26/08/2019         Les voisins de place d'Italie   \n",
       "2   17/08/2019                      Bonne expérience   \n",
       "\n",
       "                                     Comment_Content  Visit_Date  \\\n",
       "0  Le personnel est très agréable et cela fait pl...  01/08/2019   \n",
       "1  Très bon burger sa réputation du meilleur burg...  01/08/2019   \n",
       "2  Restaurant victime de son succès mais succès m...  01/07/2019   \n",
       "\n",
       "          Label            Inspection_Date  \n",
       "0  Satisfaisant  2019-01-30T01:00:00+01:00  \n",
       "1  Satisfaisant  2019-01-30T01:00:00+01:00  \n",
       "2  Satisfaisant  2019-01-30T01:00:00+01:00  "
      ]
     },
     "execution_count": 5,
     "metadata": {},
     "output_type": "execute_result"
    }
   ],
   "source": [
    "dataset.head(3)"
   ]
  },
  {
   "cell_type": "markdown",
   "metadata": {},
   "source": [
    "Après une première exploration des données, nous pouvons constater que le jeu de donnée comporte 13022 observations, 10 colonnes de features et 1 colonne de label.\n",
    "\n",
    "Nous pouvons également constater les problèmes suivants :\n",
    "\n",
    "- Plusieurs variables n'apporteront pas de valeur à notre modèle.\n",
    "\n",
    "- La plupart des variables (features + label) n'ont pas le bon type de donnée.\n",
    "\n",
    "- Le fait que des commentaires ont été publié après la date d'inspection, peut entrainer un dataleak.\n",
    "\n",
    "- Les colonnes Comment_Title et Comment_Content contiennent du langage naturel.\n",
    "\n",
    "- Il existe des valeurs inconnues dans les colonnes Comment_Title et Comment_Content.\n",
    "\n",
    "- Il n'est actuellement pas possible de vérifier l'équilibrage des labels.\n",
    "\n",
    "- Il existe plusieurs observations (commentaires) pour un même restaurant."
   ]
  },
  {
   "cell_type": "markdown",
   "metadata": {},
   "source": [
    "### Nettoyage des données"
   ]
  },
  {
   "cell_type": "markdown",
   "metadata": {},
   "source": [
    "Lors de ce nettoyage de données, nous allons résoudre 3 sur 7 des problèmes constatés en :\n",
    "\n",
    "- Faisant une sélection des variables utiles à notre étude.\n",
    "\n",
    "- Transformant le type des variables au bon format. \n",
    "\n",
    "- Filtrant uniquement les commentaires qui auront été publiés les 120 jours qui précèdent l'évaluation sanitaire du gourvenement."
   ]
  },
  {
   "cell_type": "code",
   "execution_count": 6,
   "metadata": {
    "scrolled": true
   },
   "outputs": [],
   "source": [
    "# Selection of the useful variables\n",
    "\n",
    "columns = ['Restaurant_Rating', 'Restaurant_Comment_Count', 'Comment_Rating',\n",
    "           'Publish_Date', 'Visit_Date', 'Comment_Title', 'Comment_Content',\n",
    "           'Inspection_Date', 'Label', 'Restaurant_URL']\n",
    "\n",
    "dataset = dataset[columns]\n",
    "\n",
    "\n",
    "# Casting of the variables\n",
    "\n",
    "int_variables = ['Restaurant_Rating', 'Restaurant_Comment_Count', 'Comment_Rating' ]\n",
    "\n",
    "date_variables = ['Publish_Date', 'Visit_Date', 'Inspection_Date']\n",
    "\n",
    "str_variables = ['Comment_Title', 'Comment_Content']\n",
    "\n",
    "\n",
    "for variable in int_variables:\n",
    "    dataset[variable] = dataset[variable].astype(int)\n",
    "\n",
    "for variable in date_variables:\n",
    "    dataset[variable] = pd.to_datetime(dataset[variable], utc=True)\n",
    "    \n",
    "for variable in str_variables:\n",
    "    dataset[variable] = dataset[variable].astype(str)\n",
    "    \n",
    "    \n",
    "# Dataleak prevention\n",
    "\n",
    "dataset['Validity_Start'] = dataset['Inspection_Date'] - pd.Timedelta(days=120)\n",
    "\n",
    "condition_1 = (dataset['Publish_Date'] >= dataset['Validity_Start'])\n",
    "condition_2 = (dataset['Publish_Date'] < dataset['Inspection_Date'])\n",
    "\n",
    "dataset = dataset.loc[condition_1 & condition_2]\n",
    "dataset = dataset.drop(['Validity_Start', 'Inspection_Date'], axis = 1)"
   ]
  },
  {
   "cell_type": "markdown",
   "metadata": {},
   "source": [
    "### Feature Engineering"
   ]
  },
  {
   "cell_type": "markdown",
   "metadata": {},
   "source": [
    "Lors de ce feature engineering, nous allons résoudre 4 sur 7 des problèmes constatés en :\n",
    "\n",
    "- Réduisant les variables Publish_Date et Visit_Date à une seule variable.\n",
    "\n",
    "- Faisant un recodage de la variable des labels.\n",
    "\n",
    "- Recodant les variables Comment_Title et Comment_Content en nombre de token qu'ils contiennent.\n",
    "\n",
    "- Aggrégeant toute les données numériques du jeu de donnée par restaurant et non par commentaire."
   ]
  },
  {
   "cell_type": "code",
   "execution_count": 7,
   "metadata": {},
   "outputs": [
    {
     "name": "stderr",
     "output_type": "stream",
     "text": [
      "C:\\Users\\Administrator\\AppData\\Local\\Programs\\Python\\Python37\\lib\\site-packages\\pandas\\core\\indexing.py:205: SettingWithCopyWarning: \n",
      "A value is trying to be set on a copy of a slice from a DataFrame\n",
      "\n",
      "See the caveats in the documentation: http://pandas.pydata.org/pandas-docs/stable/user_guide/indexing.html#returning-a-view-versus-a-copy\n",
      "  self._setitem_with_indexer(indexer, value)\n"
     ]
    }
   ],
   "source": [
    "# Reaction Time\n",
    "\n",
    "dataset['Reaction_Time'] = dataset['Publish_Date'] - dataset['Visit_Date']\n",
    "dataset['Reaction_Time'] = dataset['Reaction_Time'].dt.days\n",
    "\n",
    "mask = dataset['Reaction_Time'] >= 0\n",
    "dataset['Reaction_Time'].loc[~mask] = 0\n",
    "dataset['Reaction_Time'] = dataset['Reaction_Time'].astype(int)\n",
    "\n",
    "dataset = dataset.drop(['Publish_Date', 'Visit_Date'], axis = 1)\n",
    "\n",
    "\n",
    "# Label transformation\n",
    "\n",
    "encoding = {'Satisfaisant':0,\n",
    "            'Très satisfaisant':0,\n",
    "            'A améliorer':1,\n",
    "            'A corriger de manière urgente':1}\n",
    "\n",
    "dataset['Label'] = dataset['Label'].replace(encoding.keys(), encoding.values(), regex=True)\n",
    "\n",
    "\n",
    "# Token Count\n",
    "\n",
    "dataset['Token_Title_Count'] = dataset['Comment_Title'].apply(lambda x : len(word_tokenize(x)))\n",
    "dataset['Token_Content_Count'] = dataset['Comment_Content'].apply(lambda x : len(word_tokenize(x)))\n",
    "\n",
    "dataset = dataset.drop(['Comment_Title', 'Comment_Content'], axis = 1)\n",
    "\n",
    "\n",
    "# Row aggregation by restaurant\n",
    "\n",
    "dataset = dataset.groupby('Restaurant_URL').mean().round()"
   ]
  },
  {
   "cell_type": "markdown",
   "metadata": {},
   "source": [
    "### Exploration après nettoyage des données et feature engineering."
   ]
  },
  {
   "cell_type": "code",
   "execution_count": 8,
   "metadata": {},
   "outputs": [
    {
     "name": "stdout",
     "output_type": "stream",
     "text": [
      "<class 'pandas.core.frame.DataFrame'>\n",
      "Index: 843 entries, https://www.tripadvisor.fr/Restaurant_Review-g187147-d10031140-Reviews-Terre_de_Crete-Paris_Ile_de_France.html to https://www.tripadvisor.fr/Restaurant_Review-g187147-d9866676-Reviews-Subway-Paris_Ile_de_France.html\n",
      "Data columns (total 7 columns):\n",
      "Restaurant_Rating           843 non-null float64\n",
      "Restaurant_Comment_Count    843 non-null float64\n",
      "Comment_Rating              843 non-null float64\n",
      "Label                       843 non-null float64\n",
      "Reaction_Time               843 non-null float64\n",
      "Token_Title_Count           843 non-null float64\n",
      "Token_Content_Count         843 non-null float64\n",
      "dtypes: float64(7)\n",
      "memory usage: 52.7+ KB\n"
     ]
    }
   ],
   "source": [
    "dataset.info()"
   ]
  },
  {
   "cell_type": "code",
   "execution_count": 35,
   "metadata": {},
   "outputs": [
    {
     "data": {
      "text/plain": [
       "[]"
      ]
     },
     "execution_count": 35,
     "metadata": {},
     "output_type": "execute_result"
    },
    {
     "data": {
      "image/png": "[encoded data removed]",
      "text/plain": [
       "<Figure size 432x288 with 1 Axes>"
      ]
     },
     "metadata": {
      "needs_background": "light"
     },
     "output_type": "display_data"
    },
    {
     "data": {
      "image/png": "[encoded data removed]",
      "text/plain": [
       "<Figure size 432x288 with 1 Axes>"
      ]
     },
     "metadata": {
      "needs_background": "light"
     },
     "output_type": "display_data"
    },
    {
     "data": {
      "image/png": "[encoded data removed]",
      "text/plain": [
       "<Figure size 432x288 with 1 Axes>"
      ]
     },
     "metadata": {
      "needs_background": "light"
     },
     "output_type": "display_data"
    },
    {
     "data": {
      "image/png": "[encoded data removed]",
      "text/plain": [
       "<Figure size 432x288 with 1 Axes>"
      ]
     },
     "metadata": {
      "needs_background": "light"
     },
     "output_type": "display_data"
    },
    {
     "data": {
      "image/png": "[encoded data removed]",
      "text/plain": [
       "<Figure size 432x288 with 1 Axes>"
      ]
     },
     "metadata": {
      "needs_background": "light"
     },
     "output_type": "display_data"
    },
    {
     "data": {
      "image/png": "[encoded data removed]",
      "text/plain": [
       "<Figure size 432x288 with 1 Axes>"
      ]
     },
     "metadata": {
      "needs_background": "light"
     },
     "output_type": "display_data"
    },
    {
     "data": {
      "image/png": "[encoded data removed]",
      "text/plain": [
       "<Figure size 432x288 with 1 Axes>"
      ]
     },
     "metadata": {
      "needs_background": "light"
     },
     "output_type": "display_data"
    }
   ],
   "source": [
    "dataset.boxplot('Restaurant_Rating', by='Label')\n",
    "dataset.boxplot('Restaurant_Comment_Count', by='Label')\n",
    "dataset.boxplot('Comment_Rating', by='Label')\n",
    "dataset.boxplot('Reaction_Time', by='Label')\n",
    "dataset.boxplot('Token_Title_Count', by='Label')\n",
    "dataset.boxplot('Token_Content_Count', by='Label')\n",
    "dataset.hist('Label')\n",
    "plt.plot()"
   ]
  },
  {
   "cell_type": "markdown",
   "metadata": {},
   "source": [
    "Après une seconde exploration des données, nous pouvons affirmer que :\n",
    "\n",
    "- Le nombre d'observation est descendu à 843 et le nombre de variable à 7.\n",
    "\n",
    "- Le nombre de commentaire est plus important pour les restaurants ayant eu une évaluation négative que les restaurants ayant eu une évaluation positive.\n",
    "\n",
    "- Le nombre de jours écoulé entre la visite du restaurant et la publication d'un avis TripAdvisor, est moins important pour les restaurants ayant eu une évaluation négative.\n",
    "\n",
    "- Il y a davantage de restaurants ayant une évaluation positive qu'une évaluation négative.\n",
    "\n"
   ]
  },
  {
   "cell_type": "markdown",
   "metadata": {},
   "source": [
    "### Equilibrage des labels"
   ]
  },
  {
   "cell_type": "code",
   "execution_count": 31,
   "metadata": {},
   "outputs": [
    {
     "data": {
      "text/plain": [
       "[]"
      ]
     },
     "execution_count": 31,
     "metadata": {},
     "output_type": "execute_result"
    },
    {
     "data": {
      "image/png": "[encoded data removed]",
      "text/plain": [
       "<Figure size 432x288 with 1 Axes>"
      ]
     },
     "metadata": {
      "needs_background": "light"
     },
     "output_type": "display_data"
    }
   ],
   "source": [
    "over_sampler = SMOTE()\n",
    "X_resampled, y_resampled = over_sampler.fit_sample(dataset.drop('Label', axis=1), dataset['Label'])\n",
    "\n",
    "pd.Series(y_resampled).plot(kind='hist', title = 'Nouvelle répartition des labels')\n",
    "plt.plot()"
   ]
  },
  {
   "cell_type": "markdown",
   "metadata": {},
   "source": [
    "### Entrainement d'un modèle de référence"
   ]
  },
  {
   "cell_type": "code",
   "execution_count": 11,
   "metadata": {},
   "outputs": [
    {
     "data": {
      "text/plain": [
       "LogisticRegressionCV(Cs=10, class_weight=None, cv=10, dual=False,\n",
       "                     fit_intercept=True, intercept_scaling=1.0, l1_ratios=None,\n",
       "                     max_iter=100, multi_class='warn', n_jobs=None,\n",
       "                     penalty='l2', random_state=None, refit=True, scoring=None,\n",
       "                     solver='lbfgs', tol=0.0001, verbose=0)"
      ]
     },
     "execution_count": 11,
     "metadata": {},
     "output_type": "execute_result"
    }
   ],
   "source": [
    "X_train, X_test, y_train, y_test = train_test_split(X_resampled, y_resampled)\n",
    "\n",
    "LogisticRegression_Model = LogisticRegressionCV(cv=10)\n",
    "LogisticRegression_Model.fit(X_train, y_train)"
   ]
  },
  {
   "cell_type": "markdown",
   "metadata": {},
   "source": [
    "### Evaluation du modèle de référence"
   ]
  },
  {
   "cell_type": "code",
   "execution_count": 12,
   "metadata": {},
   "outputs": [
    {
     "data": {
      "text/plain": [
       "0.7345971563981043"
      ]
     },
     "execution_count": 12,
     "metadata": {},
     "output_type": "execute_result"
    }
   ],
   "source": [
    "y_predict = LogisticRegression_Model.predict(X_test)\n",
    "recall_score(y_test, y_predict)"
   ]
  },
  {
   "cell_type": "markdown",
   "metadata": {},
   "source": [
    "Le modèle de référence à une fiabilité de plus de 70 % et non 80 %. Nous allons donc optimiser le traitement de données avant d'envisager d'utiliser des modèles de classification (Decision tree, Random Forest...) plus performants."
   ]
  },
  {
   "cell_type": "markdown",
   "metadata": {},
   "source": [
    "# Bibliographie"
   ]
  },
  {
   "cell_type": "markdown",
   "metadata": {},
   "source": [
    "Statistiques sur les intoxications alimentaires françaises : https://www.pseudo-sciences.org/Les-intoxications-alimentaires-en-France-quelle-ampleur\n",
    "\n",
    "TripAdvisor : https://www.tripadvisor.fr\n",
    "\n",
    "AlimConfiance : https://dgal.opendatasoft.com/explore/dataset/export_alimconfiance/download/?format=csv&disjunctive.filtre=true&disjunctive.app_libelle_activite_etablissement=true&disjunctive.ods_type_activite=true&refine.filtre=Restaurant&timezone=Europe/Berlin&use_labels_for_header=true"
   ]
  }
 ],
 "metadata": {
  "kernelspec": {
   "display_name": "Python 3",
   "language": "python",
   "name": "python3"
  },
  "language_info": {
   "codemirror_mode": {
    "name": "ipython",
    "version": 3
   },
   "file_extension": ".py",
   "mimetype": "text/x-python",
   "name": "python",
   "nbconvert_exporter": "python",
   "pygments_lexer": "ipython3",
   "version": "3.7.4"
  }
 },
 "nbformat": 4,
 "nbformat_minor": 2
}
